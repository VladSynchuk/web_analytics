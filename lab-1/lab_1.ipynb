{
  "nbformat": 4,
  "nbformat_minor": 0,
  "metadata": {
    "colab": {
      "provenance": []
    },
    "kernelspec": {
      "name": "python3",
      "display_name": "Python 3"
    },
    "language_info": {
      "name": "python"
    }
  },
  "cells": [
    {
      "cell_type": "code",
      "source": [
        "!pip install geoip2\n",
        "# !pip install pygeoip"
      ],
      "metadata": {
        "colab": {
          "base_uri": "https://localhost:8080/"
        },
        "id": "8lZVPDCniu6N",
        "outputId": "098a5e4a-4833-4bfd-e000-220a5992a2a8"
      },
      "execution_count": 48,
      "outputs": [
        {
          "output_type": "stream",
          "name": "stdout",
          "text": [
            "Requirement already satisfied: geoip2 in /usr/local/lib/python3.10/dist-packages (4.8.0)\n",
            "Requirement already satisfied: aiohttp<4.0.0,>=3.6.2 in /usr/local/lib/python3.10/dist-packages (from geoip2) (3.9.5)\n",
            "Requirement already satisfied: maxminddb<3.0.0,>=2.5.1 in /usr/local/lib/python3.10/dist-packages (from geoip2) (2.6.1)\n",
            "Requirement already satisfied: requests<3.0.0,>=2.24.0 in /usr/local/lib/python3.10/dist-packages (from geoip2) (2.31.0)\n",
            "Requirement already satisfied: setuptools>=60.0.0 in /usr/local/lib/python3.10/dist-packages (from geoip2) (67.7.2)\n",
            "Requirement already satisfied: aiosignal>=1.1.2 in /usr/local/lib/python3.10/dist-packages (from aiohttp<4.0.0,>=3.6.2->geoip2) (1.3.1)\n",
            "Requirement already satisfied: attrs>=17.3.0 in /usr/local/lib/python3.10/dist-packages (from aiohttp<4.0.0,>=3.6.2->geoip2) (23.2.0)\n",
            "Requirement already satisfied: frozenlist>=1.1.1 in /usr/local/lib/python3.10/dist-packages (from aiohttp<4.0.0,>=3.6.2->geoip2) (1.4.1)\n",
            "Requirement already satisfied: multidict<7.0,>=4.5 in /usr/local/lib/python3.10/dist-packages (from aiohttp<4.0.0,>=3.6.2->geoip2) (6.0.5)\n",
            "Requirement already satisfied: yarl<2.0,>=1.0 in /usr/local/lib/python3.10/dist-packages (from aiohttp<4.0.0,>=3.6.2->geoip2) (1.9.4)\n",
            "Requirement already satisfied: async-timeout<5.0,>=4.0 in /usr/local/lib/python3.10/dist-packages (from aiohttp<4.0.0,>=3.6.2->geoip2) (4.0.3)\n",
            "Requirement already satisfied: charset-normalizer<4,>=2 in /usr/local/lib/python3.10/dist-packages (from requests<3.0.0,>=2.24.0->geoip2) (3.3.2)\n",
            "Requirement already satisfied: idna<4,>=2.5 in /usr/local/lib/python3.10/dist-packages (from requests<3.0.0,>=2.24.0->geoip2) (3.7)\n",
            "Requirement already satisfied: urllib3<3,>=1.21.1 in /usr/local/lib/python3.10/dist-packages (from requests<3.0.0,>=2.24.0->geoip2) (2.0.7)\n",
            "Requirement already satisfied: certifi>=2017.4.17 in /usr/local/lib/python3.10/dist-packages (from requests<3.0.0,>=2.24.0->geoip2) (2024.2.2)\n"
          ]
        }
      ]
    },
    {
      "cell_type": "code",
      "execution_count": 49,
      "metadata": {
        "id": "N1mGhflrF6Ae"
      },
      "outputs": [],
      "source": [
        "import pandas as pd\n",
        "import re\n",
        "import os\n",
        "import requests\n",
        "# import geoip2.database"
      ]
    },
    {
      "cell_type": "code",
      "source": [
        "from google.colab import drive\n",
        "drive.mount('/content/drive')"
      ],
      "metadata": {
        "colab": {
          "base_uri": "https://localhost:8080/"
        },
        "id": "JH6_xeKHW74C",
        "outputId": "904f1766-8ec0-49df-e35c-92bd2e3eee42"
      },
      "execution_count": 50,
      "outputs": [
        {
          "output_type": "stream",
          "name": "stdout",
          "text": [
            "Drive already mounted at /content/drive; to attempt to forcibly remount, call drive.mount(\"/content/drive\", force_remount=True).\n"
          ]
        }
      ]
    },
    {
      "cell_type": "code",
      "source": [
        "print(os.listdir())"
      ],
      "metadata": {
        "id": "MlLgxp7NGovo",
        "colab": {
          "base_uri": "https://localhost:8080/"
        },
        "outputId": "56eb8a44-7c47-4a1d-9158-369c75e139e1"
      },
      "execution_count": 51,
      "outputs": [
        {
          "output_type": "stream",
          "name": "stdout",
          "text": [
            "['.config', 'drive', 'sample_data']\n"
          ]
        }
      ]
    },
    {
      "cell_type": "code",
      "source": [
        "filename = '/content/drive/MyDrive/web-analytics-synchuk/access_log.csv'\n",
        "df = pd.read_csv(filename, sep = ',', parse_dates=['timestamp'],encoding='utf-8-sig')"
      ],
      "metadata": {
        "id": "k1YbfQPtX4BJ"
      },
      "execution_count": 73,
      "outputs": []
    },
    {
      "cell_type": "code",
      "source": [
        "df.head"
      ],
      "metadata": {
        "colab": {
          "base_uri": "https://localhost:8080/",
          "height": 186
        },
        "id": "ycwobTPwYVnk",
        "outputId": "a5135f89-974e-4ac0-b3a3-7fe93496bd15"
      },
      "execution_count": 74,
      "outputs": [
        {
          "output_type": "execute_result",
          "data": {
            "text/plain": [
              "<bound method NDFrame.head of       Unnamed: 0               ip                 timestamp  \\\n",
              "0              0      1.202.218.8 2012-06-20 19:05:12+02:00   \n",
              "1              1   208.115.113.91 2012-06-20 19:20:16+02:00   \n",
              "2              2    123.125.71.20 2012-06-20 19:30:40+02:00   \n",
              "3              3  220.181.108.101 2012-06-20 19:31:01+02:00   \n",
              "4              4    123.125.68.79 2012-06-20 19:53:24+02:00   \n",
              "...          ...              ...                       ...   \n",
              "2103        2103    203.143.31.75 2012-07-02 09:24:11+02:00   \n",
              "2104        2104    203.143.31.75 2012-07-02 09:24:13+02:00   \n",
              "2105        2105    203.143.31.75 2012-07-02 09:24:14+02:00   \n",
              "2106        2106    108.163.244.2 2012-07-02 09:36:46+02:00   \n",
              "2107        2107    108.163.244.2 2012-07-02 09:36:46+02:00   \n",
              "\n",
              "                            request  status  bytes_sent  \\\n",
              "0          GET /robots.txt HTTP/1.0     404         492   \n",
              "1       GET /logs/?C=M;O=D HTTP/1.1     200        1278   \n",
              "2                    GET / HTTP/1.1     200         912   \n",
              "3                    GET / HTTP/1.1     200         912   \n",
              "4                    GET / HTTP/1.1     200         625   \n",
              "...                             ...     ...         ...   \n",
              "2103  GET /logs/access.log HTTP/1.1     200      336934   \n",
              "2104      GET /favicon.ico HTTP/1.1     404         502   \n",
              "2105      GET /favicon.ico HTTP/1.1     404         502   \n",
              "2106                 GET / HTTP/1.1     200         897   \n",
              "2107                 GET / HTTP/1.1     200         889   \n",
              "\n",
              "                                               referrer  \\\n",
              "0                                                     -   \n",
              "1                                                     -   \n",
              "2                                                     -   \n",
              "3                                                     -   \n",
              "4                                                     -   \n",
              "...                                                 ...   \n",
              "2103  http://www.google.com/url?sa=t&rct=j&q=&esrc=s...   \n",
              "2104                                                  -   \n",
              "2105                                                  -   \n",
              "2106                                                  -   \n",
              "2107                                                  -   \n",
              "\n",
              "                                             user_agent        date  \\\n",
              "0                                                     \\  2012-06-20   \n",
              "1     Mozilla/5.0 (compatible; Ezooms/1.0; ezooms.bo...  2012-06-20   \n",
              "2     Mozilla/5.0 (compatible; Baiduspider/2.0; +htt...  2012-06-20   \n",
              "3     Mozilla/5.0 (compatible; Baiduspider/2.0; +htt...  2012-06-20   \n",
              "4     Mozilla/5.0 (compatible; Baiduspider/2.0; +htt...  2012-06-20   \n",
              "...                                                 ...         ...   \n",
              "2103  Mozilla/5.0 (Ubuntu; X11; Linux x86_64; rv:8.0...  2012-07-02   \n",
              "2104  Mozilla/5.0 (Ubuntu; X11; Linux x86_64; rv:8.0...  2012-07-02   \n",
              "2105  Mozilla/5.0 (Ubuntu; X11; Linux x86_64; rv:8.0...  2012-07-02   \n",
              "2106  Mozilla/5.0 (Windows; U; MSIE 6.0; Windows NT ...  2012-07-02   \n",
              "2107  Mozilla/5.0 (Windows; U; MSIE 6.0; Windows NT ...  2012-07-02   \n",
              "\n",
              "              endpoint  \n",
              "0          /robots.txt  \n",
              "1       /logs/?C=M;O=D  \n",
              "2                    /  \n",
              "3                    /  \n",
              "4                    /  \n",
              "...                ...  \n",
              "2103  /logs/access.log  \n",
              "2104      /favicon.ico  \n",
              "2105      /favicon.ico  \n",
              "2106                 /  \n",
              "2107                 /  \n",
              "\n",
              "[2108 rows x 10 columns]>"
            ],
            "text/html": [
              "<div style=\"max-width:800px; border: 1px solid var(--colab-border-color);\"><style>\n",
              "      pre.function-repr-contents {\n",
              "        overflow-x: auto;\n",
              "        padding: 8px 12px;\n",
              "        max-height: 500px;\n",
              "      }\n",
              "\n",
              "      pre.function-repr-contents.function-repr-contents-collapsed {\n",
              "        cursor: pointer;\n",
              "        max-height: 100px;\n",
              "      }\n",
              "    </style>\n",
              "    <pre style=\"white-space: initial; background:\n",
              "         var(--colab-secondary-surface-color); padding: 8px 12px;\n",
              "         border-bottom: 1px solid var(--colab-border-color);\"><b>pandas.core.generic.NDFrame.head</b><br/>def head(n: int=5) -&gt; NDFrameT</pre><pre class=\"function-repr-contents function-repr-contents-collapsed\" style=\"\"><a class=\"filepath\" style=\"display:none\" href=\"#\">/usr/local/lib/python3.10/dist-packages/pandas/core/generic.py</a>Return the first `n` rows.\n",
              "\n",
              "This function returns the first `n` rows for the object based\n",
              "on position. It is useful for quickly testing if your object\n",
              "has the right type of data in it.\n",
              "\n",
              "For negative values of `n`, this function returns all rows except\n",
              "the last `|n|` rows, equivalent to ``df[:n]``.\n",
              "\n",
              "If n is larger than the number of rows, this function returns all rows.\n",
              "\n",
              "Parameters\n",
              "----------\n",
              "n : int, default 5\n",
              "    Number of rows to select.\n",
              "\n",
              "Returns\n",
              "-------\n",
              "same type as caller\n",
              "    The first `n` rows of the caller object.\n",
              "\n",
              "See Also\n",
              "--------\n",
              "DataFrame.tail: Returns the last `n` rows.\n",
              "\n",
              "Examples\n",
              "--------\n",
              "&gt;&gt;&gt; df = pd.DataFrame({&#x27;animal&#x27;: [&#x27;alligator&#x27;, &#x27;bee&#x27;, &#x27;falcon&#x27;, &#x27;lion&#x27;,\n",
              "...                    &#x27;monkey&#x27;, &#x27;parrot&#x27;, &#x27;shark&#x27;, &#x27;whale&#x27;, &#x27;zebra&#x27;]})\n",
              "&gt;&gt;&gt; df\n",
              "      animal\n",
              "0  alligator\n",
              "1        bee\n",
              "2     falcon\n",
              "3       lion\n",
              "4     monkey\n",
              "5     parrot\n",
              "6      shark\n",
              "7      whale\n",
              "8      zebra\n",
              "\n",
              "Viewing the first 5 lines\n",
              "\n",
              "&gt;&gt;&gt; df.head()\n",
              "      animal\n",
              "0  alligator\n",
              "1        bee\n",
              "2     falcon\n",
              "3       lion\n",
              "4     monkey\n",
              "\n",
              "Viewing the first `n` lines (three in this case)\n",
              "\n",
              "&gt;&gt;&gt; df.head(3)\n",
              "      animal\n",
              "0  alligator\n",
              "1        bee\n",
              "2     falcon\n",
              "\n",
              "For negative values of `n`\n",
              "\n",
              "&gt;&gt;&gt; df.head(-3)\n",
              "      animal\n",
              "0  alligator\n",
              "1        bee\n",
              "2     falcon\n",
              "3       lion\n",
              "4     monkey\n",
              "5     parrot</pre>\n",
              "      <script>\n",
              "      if (google.colab.kernel.accessAllowed && google.colab.files && google.colab.files.view) {\n",
              "        for (const element of document.querySelectorAll('.filepath')) {\n",
              "          element.style.display = 'block'\n",
              "          element.onclick = (event) => {\n",
              "            event.preventDefault();\n",
              "            event.stopPropagation();\n",
              "            google.colab.files.view(element.textContent, 5559);\n",
              "          };\n",
              "        }\n",
              "      }\n",
              "      for (const element of document.querySelectorAll('.function-repr-contents')) {\n",
              "        element.onclick = (event) => {\n",
              "          event.preventDefault();\n",
              "          event.stopPropagation();\n",
              "          element.classList.toggle('function-repr-contents-collapsed');\n",
              "        };\n",
              "      }\n",
              "      </script>\n",
              "      </div>"
            ]
          },
          "metadata": {},
          "execution_count": 74
        }
      ]
    },
    {
      "cell_type": "code",
      "source": [
        "# кількість користувачів за днями\n",
        "df.groupby('date')['ip'].nunique()"
      ],
      "metadata": {
        "colab": {
          "base_uri": "https://localhost:8080/"
        },
        "id": "D5czEqHFYXSl",
        "outputId": "a0bbd739-47ab-4548-b885-d372fdf16ff5"
      },
      "execution_count": 75,
      "outputs": [
        {
          "output_type": "execute_result",
          "data": {
            "text/plain": [
              "date\n",
              "2012-06-20    21\n",
              "2012-06-21    69\n",
              "2012-06-22    68\n",
              "2012-06-23    83\n",
              "2012-06-24    78\n",
              "2012-06-25    73\n",
              "2012-06-26    90\n",
              "2012-06-27    73\n",
              "2012-06-28    88\n",
              "2012-06-29    93\n",
              "2012-06-30    98\n",
              "2012-07-01    82\n",
              "2012-07-02    30\n",
              "Name: ip, dtype: int64"
            ]
          },
          "metadata": {},
          "execution_count": 75
        }
      ]
    },
    {
      "cell_type": "code",
      "source": [
        "# ранжувати користувачів за user-agent\n",
        "df.groupby('user_agent')['ip'].nunique().sort_values(ascending=False)"
      ],
      "metadata": {
        "colab": {
          "base_uri": "https://localhost:8080/"
        },
        "id": "yGtf3KuzcMvd",
        "outputId": "8ed497b8-b44d-45e2-b8e8-f2dc6f9d7ff1"
      },
      "execution_count": 76,
      "outputs": [
        {
          "output_type": "execute_result",
          "data": {
            "text/plain": [
              "user_agent\n",
              "Mozilla/5.0 (compatible; Baiduspider/2.0; +http://www.baidu.com/search/spider.html)                         193\n",
              "Mozilla/5.0 (compatible; MJ12bot/v1.4.3; http://www.majestic12.co.uk/bot.php?+)                              32\n",
              "Mozilla/5.0 (compatible; AhrefsBot/3.1; +http://ahrefs.com/robot/)                                           22\n",
              "Mozilla/5.0 (Windows NT 5.1; rv:6.0.2) Gecko/20100101 Firefox/6.0.2                                          15\n",
              "Mozilla/5.0 (compatible; Googlebot/2.1; +http://www.google.com/bot.html)                                     13\n",
              "                                                                                                           ... \n",
              "Mozilla/5.0 (Windows NT 6.1; WOW64) AppleWebKit/535.1 (KHTML, like Gecko) Chrome/14.0.814.0 Safari/535.1      1\n",
              "Mozilla/5.0 (Windows NT 6.1) AppleWebKit/536.5 (KHTML, like Gecko) Chrome/19.0.1084.56 Safari/536.5           1\n",
              "Mozilla/5.0 (Windows NT 6.1) AppleWebKit/535.19 (KHTML, like Gecko) Chrome/18.0.1025.1 Safari/535.19          1\n",
              "Mozilla/5.0 (Windows NT 6.0; rv:12.0) Gecko/20100101 Firefox/12.0                                             1\n",
              "siclab (cboc-test@lab.ntt.co.jp)                                                                              1\n",
              "Name: ip, Length: 101, dtype: int64"
            ]
          },
          "metadata": {},
          "execution_count": 76
        }
      ]
    },
    {
      "cell_type": "code",
      "source": [
        "# ранжувати користувачів за операційними системами\n",
        "# ex. : Mozilla/5.0 (Windows NT 5.1; rv:6.0.2) Gecko/20100101 Firefox/6.0.2\n",
        "# => Windows                                      15\n",
        "def extract_parentheses_content(user_agent_str: str) -> str | None:\n",
        "    pattern = r'\\((.*?)\\)'\n",
        "    match_ = re.search(pattern, user_agent_str)\n",
        "    return match_.group(1) if match_ else None\n",
        "\n",
        "\n",
        "def identify_os(content: str) -> str:\n",
        "    # Define patterns for known operating systems\n",
        "    os_patterns = {\n",
        "        'Windows': r'Windows',\n",
        "        'Mac OS': r'Macintosh|Mac OS|Mac_PowerPC',\n",
        "        'Linux': r'Linux',\n",
        "        'Android': r'Android',\n",
        "        'iOS': r'iPhone|iPad|iPod',\n",
        "        'Chrome OS': r'CrOS'\n",
        "    }\n",
        "\n",
        "    for os, pattern in os_patterns.items():\n",
        "        if re.search(pattern, content, re.IGNORECASE):\n",
        "            return os\n",
        "    return 'Unknown'\n",
        "\n",
        "def extract_os_from_user_agent(user_agent_str: str) -> str:\n",
        "    content = str(extract_parentheses_content(user_agent_str))\n",
        "    return identify_os(content)\n",
        "\n",
        "\n",
        "df['os'] = df['user_agent'].apply(extract_os_from_user_agent)\n",
        "df.groupby('os')['ip'].nunique()"
      ],
      "metadata": {
        "colab": {
          "base_uri": "https://localhost:8080/"
        },
        "id": "eZJmtD3kdK5e",
        "outputId": "cc302690-7f88-40d6-e35f-d0c72b7db109"
      },
      "execution_count": 77,
      "outputs": [
        {
          "output_type": "execute_result",
          "data": {
            "text/plain": [
              "os\n",
              "Linux       10\n",
              "Mac OS       2\n",
              "Unknown    329\n",
              "Windows    119\n",
              "Name: ip, dtype: int64"
            ]
          },
          "metadata": {},
          "execution_count": 77
        }
      ]
    },
    {
      "cell_type": "code",
      "source": [
        "print(df['user_agent'].unique())"
      ],
      "metadata": {
        "colab": {
          "base_uri": "https://localhost:8080/"
        },
        "collapsed": true,
        "id": "j93SRyPjdXSn",
        "outputId": "978e189b-c343-4009-92c7-be3ff248765b"
      },
      "execution_count": 78,
      "outputs": [
        {
          "output_type": "stream",
          "name": "stdout",
          "text": [
            "['\\\\' 'Mozilla/5.0 (compatible; Ezooms/1.0; ezooms.bot@gmail.com)'\n",
            " 'Mozilla/5.0 (compatible; Baiduspider/2.0; +http://www.baidu.com/search/spider.html)'\n",
            " 'Mozilla/5.0 (compatible; YandexBot/3.0; +http://yandex.com/bots)'\n",
            " 'Mozilla/4.0 (compatible; MSIE 7.0; Windows NT 5.1; .NET CLR 1.1.4322; .NET CLR 2.0.50727; .NET CLR 3.0.04506.648; .NET CLR 3.5.21022; InfoPath.2; .NET CLR 3.0.4506.2152; .NET CLR 3.5.30729)'\n",
            " 'Mozilla/4.0 (compatible; MSIE 8.0; Windows NT 6.0; Trident/4.0; Mozilla/4.0 (compatible; MSIE 6.0; Windows NT 5.1; SV1) ; .NET CLR 3.5.30729)'\n",
            " 'Mozilla/5.0 (compatible; MJ12bot/v1.4.3; http://www.majestic12.co.uk/bot.php?+)'\n",
            " 'Mozilla/5.0 (compatible; AhrefsBot/3.0; +http://ahrefs.com/robot/)'\n",
            " 'Mozilla/5.0 (compatible; Googlebot/2.1; +http://www.google.com/bot.html)'\n",
            " 'findlinks/2.6 (+http://wortschatz.uni-leipzig.de/findlinks/)'\n",
            " 'Baiduspider-image+(+http://www.baidu.com/search/spider.htm)'\n",
            " 'Aboundex/0.2 (http://www.aboundex.com/crawler/)'\n",
            " 'SeznamBot/3.0 (+http://fulltext.sblog.cz/)'\n",
            " 'Mozilla/5.0 (Windows NT 6.1; WOW64) AppleWebKit/535.1 (KHTML, like Gecko) Chrome/13.0.782.112 Safari/535.1'\n",
            " 'Mozilla/5.0 (compatible; Blekkobot; ScoutJet; +http://blekko.com/about/blekkobot)'\n",
            " 'Wotbox/2.0 (bot@wotbox.com; http://www.wotbox.com)'\n",
            " 'Mozilla/5.0 (Windows NT 6.1; WOW64) AppleWebKit/536.5 (KHTML, like Gecko) Chrome/19.0.1084.56 Safari/536.5'\n",
            " 'Mozilla/5.0 (Windows; U; Windows NT 5.1; en-US) AppleWebKit/534.12 (KHTML, like Gecko) Chrome/9.0.587.0 Safari/534.12'\n",
            " 'AdsBot-Google-Mobile (+http://www.google.com/mobile/adsbot.html) Mozilla (iPhone; U; CPU iPhone OS 3 0 like Mac OS X) AppleWebKit (KHTML, like Gecko) Mobile Safari'\n",
            " 'Baiduspider+(+http://www.baidu.com/search/spider.htm)'\n",
            " 'findlinks/2.1.5 (+http://wortschatz.uni-leipzig.de/findlinks/)'\n",
            " 'MLBot (www.metadatalabs.com/mlbot)'\n",
            " 'Mozilla/5.0 (compatible; MSIE 9.0; Windows NT 6.1; Trident/5.0)'\n",
            " 'Aghaven/Nutch-1.2 (www.aghaven.com)'\n",
            " 'Mozilla/5.0 (Windows NT 6.1; rv:12.0) Gecko/20100101 Firefox/12.0' '-'\n",
            " 'Sogou web spider/4.0(+http://www.sogou.com/docs/help/webmasters.htm#07)'\n",
            " 'Mozilla/5.0 (Windows NT 5.1; rv:11.0) Gecko/20100101 Firefox/11.0'\n",
            " 'Mozilla/5.0 (X11; Linux x86_64; rv:13.0) Gecko/20100101 Firefox/13.0.1'\n",
            " 'Mozilla/5.0 (compatible; bingbot/2.0; +http://www.bing.com/bingbot.htm)'\n",
            " 'Mozilla/5.0 (compatible; MSIE 9.0; Windows NT 6.1; Trident/5.0; BOIE9;ENUS)'\n",
            " 'Mozilla/5.0 (compatible; Exabot/3.0; +http://www.exabot.com/go/robot)'\n",
            " 'Mozilla/5.0 (Windows NT 5.1; rv:6.0.2) Gecko/20100101 Firefox/6.0.2'\n",
            " 'Mozilla/4.0 (compatible; MSIE 6.0; Windows NT 5.1)'\n",
            " 'Mozilla/5.0 (Windows NT 6.0; rv:12.0) Gecko/20100101 Firefox/12.0'\n",
            " 'Mozilla/5.0 (compatible; Konqueror/4.5; FreeBSD) KHTML/4.5.4 (like Gecko)'\n",
            " 'HuaweiSymantecSpider/1.0+DSE-support@huaweisymantec.com+(compatible; MSIE 7.0; Windows NT 5.1; Trident/4.0; .NET CLR 2.0.50727; .NET CLR 3.0.4506.2152; .NET CLR ; http://www.huaweisymantec.com/en/IRL/spider)'\n",
            " 'FyberSpider/1.3 (http://www.fybersearch.com/fyberspider.php)'\n",
            " 'siclab (cboc-test@lab.ntt.co.jp)'\n",
            " 'Mozilla/4.0 (compatible; MSIE 8.0; Windows NT 5.1)'\n",
            " 'Mozilla/5.0 (Windows; U; Windows NT 5.1; en; rv:1.9.0.13) Gecko/2009073022 Firefox/3.5.2 (.NET CLR 3.5.30729) SurveyBot/2.3 (DomainTools)'\n",
            " 'Mozilla/5.0 (compatible; MJ12bot/v1.4.2; http://www.majestic12.co.uk/bot.php?+)'\n",
            " 'Mozilla/5.0 (compatible; Mail.RU/2.0)'\n",
            " 'Mozilla/5.0 (Windows NT 6.1; rv:5.0) Gecko/20100101 Firefox/5.02'\n",
            " 'Mozilla/5.0 (compatible; OpenindexSpider/Nutch-1.5-dev; +http://www.openindex.io/en/webmasters/spider.html)'\n",
            " 'Mozilla/5.0 (Linux; U; Android 2.2; fr-fr; Desire_A8181 Build/FRF91) App3leWebKit/53.1 (KHTML, like Gecko) Version/4.0 Mobile Safari/533.1'\n",
            " 'Mozilla/4.0 (compatible; MSIE 8.0; Windows NT 6.1)'\n",
            " 'findlinks/2.0.2 (+http://wortschatz.uni-leipzig.de/findlinks/)'\n",
            " 'Mozilla/5.0 (Windows NT 6.0) AppleWebKit/535.1 (KHTML, like Gecko) Chrome/13.0.782.112 Safari/535.1'\n",
            " 'Mozilla/4.0 (compatible; MSIE 7.0; Windows NT 5.1; Trident/4.0; .NET CLR 1.1.4322)'\n",
            " 'Mozilla/4.0 (compatible; MSIE 6.0; Windows NT 5.1; SV1; MRA 5.8 (build 4157); .NET CLR 2.0.50727; AskTbPTV/5.11.3.15590)'\n",
            " 'Mozilla/4.0 (compatible; MSIE 7.0; Windows NT 5.1; .NET CLR 2.0.50727; .NET CLR 3.0.4506.2152; .NET CLR 3.5.30729)'\n",
            " 'Mozilla/5.0 (compatible; YandexImages/3.0; +http://yandex.com/bots)'\n",
            " 'Mozilla/5.0 (X11; Linux x86_64) AppleWebKit/536.5 (KHTML, like Gecko) Chrome/19.0.1084.52 Safari/536.5'\n",
            " 'Mozilla/5.0 (X11; Linux x86_64) AppleWebKit/535.19 (KHTML, like Gecko) Ubuntu/11.10 Chromium/18.0.1025.168 Chrome/18.0.1025.168 Safari/535.19'\n",
            " 'Mozilla/5.0 (Windows NT 6.1) AppleWebKit/535.19 (KHTML, like Gecko) Chrome/18.0.1025.1 Safari/535.19'\n",
            " 'AdsBot-Google (+http://www.google.com/adsbot.html)'\n",
            " 'Mozilla/5.0 (compatible; aiHitBot/1.1; +http://www.aihit.com/)'\n",
            " 'SAMSUNG-SGH-E250/1.0 Profile/MIDP-2.0 Configuration/CLDC-1.1 UP.Browser/6.2.3.3.c.1.101 (GUI) MMP/2.0 (compatible; Googlebot-Mobile/2.1; +http://www.google.com/bot.html)'\n",
            " 'Mozilla/4.0 (compatible; MSIE 6.0; Windows NT 5.1; SV1; FunWebProducts; .NET CLR 1.1.4322; PeoplePal 6.2)'\n",
            " 'AppEngine-Google; (+http://code.google.com/appengine; appid: s~getfavicon27)'\n",
            " 'Mozilla/5.0 (Windows; U; Windows NT 6.0; en-US; rv:1.9.2.11) Gecko/20101012 Firefox/3.6.11 GTB7.1 ( .NET CLR 3.5.30729; .NET4.0E)'\n",
            " 'Mozilla/4.0 (compatible; MSIE 8.0; Windows NT 6.0; Trident/4.0; SLCC1; .NET CLR 2.0.50727; .NET CLR 3.0.30729; .NET CLR 3.5.21022; .NET CLR 3.5.30729; .NET4.0C; InfoPath.3)'\n",
            " 'Mozilla/5.0 (iPhone; U; CPU iPhone OS 4_1 like Mac OS X; en-us) AppleWebKit/532.9 (KHTML, like Gecko) Version/4.0.5 Mobile/8B117 Safari/6531.22.7 (compatible; Googlebot-Mobile/2.1; +http://www.google.com/bot.html)'\n",
            " 'Mozilla/5.0 (Windows NT 6.1; WOW64; rv:5.0) Gecko/20100101 Firefox/5.0'\n",
            " 'Mozilla/5.0 (Windows NT 6.1; rv:11.0) Gecko/20100101 Firefox/11.0'\n",
            " 'Mozilla/4.0 (compatible; MSIE 8.0; Windows NT 5.1; Trident/4.0; .NET CLR 1.1.4322; .NET CLR 2.0.50727; .NET CLR 3.0.04506.30; .NET CLR 3.0.4506.2152; .NET CLR 3.5.30729)'\n",
            " 'Mozilla/5.0 (Windows NT 6.1; rv:2.0b7pre) Gecko/20100921 Firefox/4.0b7pre'\n",
            " 'Mozilla/4.0 (compatible; MSIE 6.0; Windows NT)'\n",
            " 'Mozilla/4.0 (compatible; MSIE 7.0; Windows NT 5.1; SV1; .NET CLR 2.0.50727)'\n",
            " 'Opera/9.80 (Windows NT 6.1; Win64; x64; U; pt-BR) Presto/2.10.289 Version/12.00'\n",
            " 'Opera/9.80 (Windows NT 5.1; U; en) Presto/2.10.229 Version/11.60'\n",
            " 'Mozilla/5.0 (Windows; U; MSIE 6.0; Windows NT 5.1; SV1; .NET CLR 2.0.50727)'\n",
            " 'Mozilla/5.0 (Windows; U; Windows NT 5.1; fr; rv:1.9.0.8) Gecko/2009032609 Firefox/3.0.8'\n",
            " 'Java/1.6.0_04'\n",
            " 'Mozilla/5.0 (Windows NT 5.1; rv:13.0) Gecko/20100101 Firefox/13.0.1'\n",
            " 'Mozilla/5.0 (compatible; discobot/2.0; +http://discoveryengine.com/discobot.html)'\n",
            " 'Mozilla/5.0 (Windows NT 6.1) AppleWebKit/536.5 (KHTML, like Gecko) Chrome/19.0.1084.56 Safari/536.5'\n",
            " 'Mozilla/5.0 (Windows NT 5.1; rv:5.0.1) Gecko/20100101 Firefox/5.0.1'\n",
            " 'Mozilla/4.0 (compatible; MSIE 7.0; Windows NT 5.1; Mozilla/4.0 (compatible; MSIE 6.0; Windows NT 5.1; SV1) ; .NET CLR 2.0.50727; .NET CLR 3.0.4506.2152; .NET CLR 3.5.30729)'\n",
            " 'Mozilla/5.0 (X11; U; Linux x86_64; de; rv:1.9.2.3) Gecko/20100401 SUSE/3.6.3-1.1 Firefox/3.6.3'\n",
            " 'Mozilla/5.0 (compatible; AhrefsBot/3.1; +http://ahrefs.com/robot/)'\n",
            " 'SU Nutch Spider/Nutch-1.4'\n",
            " 'Mozilla/5.0 (compatible; AcoonBot/4.11.1; +http://www.acoon.de/robot.asp)'\n",
            " 'Mozilla/5.0 (Macintosh; Intel Mac OS X 10.7; rv:13.0) Gecko/20100101 Firefox/13.0.1'\n",
            " 'Mozilla/4.0 (compatible; MSIE 6.0; MSIE 5.5; Windows NT 5.0) Opera 7.02 Bork-edition [en]'\n",
            " 'Mozilla/4.0 (compatible; MSIE 7.0; Windows NT 5.1; Trident/4.0; .NET CLR 2.0.50727; .NET CLR 3.0.4506.2152; .NET CLR 3.5.30729)'\n",
            " 'Mozilla/5.0 (Windows NT 5.1) AppleWebKit/536.5 (KHTML, like Gecko) Chrome/19.0.1084.56 Safari/536.5'\n",
            " 'Mozilla/5.0 (Windows NT 6.1; WOW64) AppleWebKit/535.1 (KHTML, like Gecko) Chrome/14.0.814.0 Safari/535.1'\n",
            " 'Mozilla/5.0 (Windows; U; Windows NT 5.1; fr; rv:1.8.1) VoilaBot BETA 1.2 (support.voilabot@orange-ftgroup.com)'\n",
            " 'BacklinkCrawler (http://www.backlinktest.com/crawler.html)'\n",
            " 'Mozilla/4.0 (compatible; http://search.thunderstone.com/texis/websearch/about.html)'\n",
            " 'Opera/9.80 (Windows NT 6.0; U; nl) Presto/2.10.229 Version/11.61'\n",
            " 'Mozilla/4.0 (compatible; MSIE 6.0; Windows NT 5.1; SV1; .NET CLR 1.1.4322)'\n",
            " 'nutch-1.4/Nutch-1.4'\n",
            " 'Mozilla/5.0 (Windows; U; Windows NT 5.1; sv-SE; rv:1.8.0.11) Gecko/20070312 Firefox/1.5.0.11'\n",
            " 'Mozilla/5.0 (Windows NT 6.1; rv:7.0.1) Gecko/20100101 Firefox/7.0.1'\n",
            " 'Mozilla/5.0 (Windows NT 6.1; WOW64; rv:7.0.1) Gecko/20100101 Firefox/7.0.1'\n",
            " 'Mozilla/5.0 (Windows; U; Windows NT 5.1; cs; rv:1.9.0.11) Gecko/2009060215 Firefox/3.0.11'\n",
            " 'Mozilla/2.0 (compatible; MSIE 3.02; Windows CE; 240x320)'\n",
            " 'Mozilla/5.0 (Ubuntu; X11; Linux x86_64; rv:8.0) Gecko/20100101 Firefox/8.0']\n"
          ]
        }
      ]
    },
    {
      "cell_type": "code",
      "source": [
        "# Ранжувати користувачів за країною запиту\n",
        "import geoip2.database\n",
        "# reader = geoip2.database.Reader('/content/drive/MyDrive/web-analytics-synchuk/GeoLite2-City.mmdb')\n",
        "reader = geoip2.database.Reader('/content/drive/MyDrive/web-analytics-synchuk/GeoLite2-Country.mmdb')\n",
        "\n",
        "# def get_country_from_ip(ip: str) -> str:\n",
        "#     response = requests.get(f\"https://geolocation-db.com/json/{ip}&position=true\").json()\n",
        "#     # print(response)\n",
        "#     return response['country_name']\n",
        "\n",
        "def get_country_from_ip(ip: str, reader) -> str:\n",
        "    try:\n",
        "        response = reader.country(ip)\n",
        "        return response.country.name\n",
        "    except Exception:\n",
        "        return 'Unknown'\n",
        "\n",
        "\n",
        "df['country'] = df['ip'].apply(lambda ip: get_country_from_ip(ip, reader))"
      ],
      "metadata": {
        "id": "O2BWUJnwghX7"
      },
      "execution_count": 79,
      "outputs": []
    },
    {
      "cell_type": "code",
      "source": [
        "df.groupby('country')['ip'].nunique().sort_values(ascending=False)"
      ],
      "metadata": {
        "colab": {
          "base_uri": "https://localhost:8080/"
        },
        "id": "_IZkRAT7iVsb",
        "outputId": "e3eca3c3-2c12-426f-a938-9349a731473a"
      },
      "execution_count": 80,
      "outputs": [
        {
          "output_type": "execute_result",
          "data": {
            "text/plain": [
              "country\n",
              "China              193\n",
              "United States      102\n",
              "Japan               24\n",
              "Russia              22\n",
              "France              14\n",
              "Germany             14\n",
              "Ukraine             12\n",
              "The Netherlands      6\n",
              "United Kingdom       5\n",
              "Brazil               5\n",
              "Czechia              5\n",
              "Indonesia            5\n",
              "India                4\n",
              "Israel               4\n",
              "Norway               4\n",
              "Romania              2\n",
              "Sweden               2\n",
              "Ecuador              2\n",
              "Canada               2\n",
              "Thailand             2\n",
              "Malaysia             2\n",
              "Argentina            1\n",
              "Türkiye              1\n",
              "Sri Lanka            1\n",
              "Venezuela            1\n",
              "Sudan                1\n",
              "Luxembourg           1\n",
              "Spain                1\n",
              "South Africa         1\n",
              "Poland               1\n",
              "Belgium              1\n",
              "Iran                 1\n",
              "Hungary              1\n",
              "Hong Kong            1\n",
              "Ghana                1\n",
              "Finland              1\n",
              "Egypt                1\n",
              "Vietnam              1\n",
              "Name: ip, dtype: int64"
            ]
          },
          "metadata": {},
          "execution_count": 80
        }
      ]
    },
    {
      "cell_type": "code",
      "source": [
        "# Виокремити пошукових ботів\n",
        "\n",
        "known_bots = ['Googlebot', 'Bingbot', 'Yahoo! Slurp', 'DuckDuckBot', 'Baiduspider']\n",
        "# Identify bots in the User-Agent column and create a new 'Bot' column\n",
        "df['bot'] = df['user_agent'].apply(\n",
        "    lambda user_agent: next((bot for bot in known_bots if bot in user_agent), None)\n",
        ")\n",
        "df.groupby('bot')['ip'].nunique().sort_values(ascending=False)"
      ],
      "metadata": {
        "colab": {
          "base_uri": "https://localhost:8080/"
        },
        "id": "73A2Q4qxiV_h",
        "outputId": "3e6e6803-7d5c-4b5c-f0ad-2e34a44af84d"
      },
      "execution_count": 81,
      "outputs": [
        {
          "output_type": "execute_result",
          "data": {
            "text/plain": [
              "bot\n",
              "Baiduspider    206\n",
              "Googlebot       13\n",
              "Name: ip, dtype: int64"
            ]
          },
          "metadata": {},
          "execution_count": 81
        }
      ]
    },
    {
      "cell_type": "code",
      "source": [
        "df.head()"
      ],
      "metadata": {
        "colab": {
          "base_uri": "https://localhost:8080/",
          "height": 310
        },
        "id": "kx-RGAIXtbhy",
        "outputId": "36bcdc20-67ff-4583-8450-c193c4e41add"
      },
      "execution_count": 82,
      "outputs": [
        {
          "output_type": "execute_result",
          "data": {
            "text/plain": [
              "   Unnamed: 0               ip                 timestamp  \\\n",
              "0           0      1.202.218.8 2012-06-20 19:05:12+02:00   \n",
              "1           1   208.115.113.91 2012-06-20 19:20:16+02:00   \n",
              "2           2    123.125.71.20 2012-06-20 19:30:40+02:00   \n",
              "3           3  220.181.108.101 2012-06-20 19:31:01+02:00   \n",
              "4           4    123.125.68.79 2012-06-20 19:53:24+02:00   \n",
              "\n",
              "                       request  status  bytes_sent referrer  \\\n",
              "0     GET /robots.txt HTTP/1.0     404         492        -   \n",
              "1  GET /logs/?C=M;O=D HTTP/1.1     200        1278        -   \n",
              "2               GET / HTTP/1.1     200         912        -   \n",
              "3               GET / HTTP/1.1     200         912        -   \n",
              "4               GET / HTTP/1.1     200         625        -   \n",
              "\n",
              "                                          user_agent        date  \\\n",
              "0                                                  \\  2012-06-20   \n",
              "1  Mozilla/5.0 (compatible; Ezooms/1.0; ezooms.bo...  2012-06-20   \n",
              "2  Mozilla/5.0 (compatible; Baiduspider/2.0; +htt...  2012-06-20   \n",
              "3  Mozilla/5.0 (compatible; Baiduspider/2.0; +htt...  2012-06-20   \n",
              "4  Mozilla/5.0 (compatible; Baiduspider/2.0; +htt...  2012-06-20   \n",
              "\n",
              "         endpoint       os        country          bot  \n",
              "0     /robots.txt  Unknown          China         None  \n",
              "1  /logs/?C=M;O=D  Unknown  United States         None  \n",
              "2               /  Unknown          China  Baiduspider  \n",
              "3               /  Unknown          China  Baiduspider  \n",
              "4               /  Unknown          China  Baiduspider  "
            ],
            "text/html": [
              "\n",
              "  <div id=\"df-7bb6fe35-abe1-4b2d-803c-2ecdfc9b6707\" class=\"colab-df-container\">\n",
              "    <div>\n",
              "<style scoped>\n",
              "    .dataframe tbody tr th:only-of-type {\n",
              "        vertical-align: middle;\n",
              "    }\n",
              "\n",
              "    .dataframe tbody tr th {\n",
              "        vertical-align: top;\n",
              "    }\n",
              "\n",
              "    .dataframe thead th {\n",
              "        text-align: right;\n",
              "    }\n",
              "</style>\n",
              "<table border=\"1\" class=\"dataframe\">\n",
              "  <thead>\n",
              "    <tr style=\"text-align: right;\">\n",
              "      <th></th>\n",
              "      <th>Unnamed: 0</th>\n",
              "      <th>ip</th>\n",
              "      <th>timestamp</th>\n",
              "      <th>request</th>\n",
              "      <th>status</th>\n",
              "      <th>bytes_sent</th>\n",
              "      <th>referrer</th>\n",
              "      <th>user_agent</th>\n",
              "      <th>date</th>\n",
              "      <th>endpoint</th>\n",
              "      <th>os</th>\n",
              "      <th>country</th>\n",
              "      <th>bot</th>\n",
              "    </tr>\n",
              "  </thead>\n",
              "  <tbody>\n",
              "    <tr>\n",
              "      <th>0</th>\n",
              "      <td>0</td>\n",
              "      <td>1.202.218.8</td>\n",
              "      <td>2012-06-20 19:05:12+02:00</td>\n",
              "      <td>GET /robots.txt HTTP/1.0</td>\n",
              "      <td>404</td>\n",
              "      <td>492</td>\n",
              "      <td>-</td>\n",
              "      <td>\\</td>\n",
              "      <td>2012-06-20</td>\n",
              "      <td>/robots.txt</td>\n",
              "      <td>Unknown</td>\n",
              "      <td>China</td>\n",
              "      <td>None</td>\n",
              "    </tr>\n",
              "    <tr>\n",
              "      <th>1</th>\n",
              "      <td>1</td>\n",
              "      <td>208.115.113.91</td>\n",
              "      <td>2012-06-20 19:20:16+02:00</td>\n",
              "      <td>GET /logs/?C=M;O=D HTTP/1.1</td>\n",
              "      <td>200</td>\n",
              "      <td>1278</td>\n",
              "      <td>-</td>\n",
              "      <td>Mozilla/5.0 (compatible; Ezooms/1.0; ezooms.bo...</td>\n",
              "      <td>2012-06-20</td>\n",
              "      <td>/logs/?C=M;O=D</td>\n",
              "      <td>Unknown</td>\n",
              "      <td>United States</td>\n",
              "      <td>None</td>\n",
              "    </tr>\n",
              "    <tr>\n",
              "      <th>2</th>\n",
              "      <td>2</td>\n",
              "      <td>123.125.71.20</td>\n",
              "      <td>2012-06-20 19:30:40+02:00</td>\n",
              "      <td>GET / HTTP/1.1</td>\n",
              "      <td>200</td>\n",
              "      <td>912</td>\n",
              "      <td>-</td>\n",
              "      <td>Mozilla/5.0 (compatible; Baiduspider/2.0; +htt...</td>\n",
              "      <td>2012-06-20</td>\n",
              "      <td>/</td>\n",
              "      <td>Unknown</td>\n",
              "      <td>China</td>\n",
              "      <td>Baiduspider</td>\n",
              "    </tr>\n",
              "    <tr>\n",
              "      <th>3</th>\n",
              "      <td>3</td>\n",
              "      <td>220.181.108.101</td>\n",
              "      <td>2012-06-20 19:31:01+02:00</td>\n",
              "      <td>GET / HTTP/1.1</td>\n",
              "      <td>200</td>\n",
              "      <td>912</td>\n",
              "      <td>-</td>\n",
              "      <td>Mozilla/5.0 (compatible; Baiduspider/2.0; +htt...</td>\n",
              "      <td>2012-06-20</td>\n",
              "      <td>/</td>\n",
              "      <td>Unknown</td>\n",
              "      <td>China</td>\n",
              "      <td>Baiduspider</td>\n",
              "    </tr>\n",
              "    <tr>\n",
              "      <th>4</th>\n",
              "      <td>4</td>\n",
              "      <td>123.125.68.79</td>\n",
              "      <td>2012-06-20 19:53:24+02:00</td>\n",
              "      <td>GET / HTTP/1.1</td>\n",
              "      <td>200</td>\n",
              "      <td>625</td>\n",
              "      <td>-</td>\n",
              "      <td>Mozilla/5.0 (compatible; Baiduspider/2.0; +htt...</td>\n",
              "      <td>2012-06-20</td>\n",
              "      <td>/</td>\n",
              "      <td>Unknown</td>\n",
              "      <td>China</td>\n",
              "      <td>Baiduspider</td>\n",
              "    </tr>\n",
              "  </tbody>\n",
              "</table>\n",
              "</div>\n",
              "    <div class=\"colab-df-buttons\">\n",
              "\n",
              "  <div class=\"colab-df-container\">\n",
              "    <button class=\"colab-df-convert\" onclick=\"convertToInteractive('df-7bb6fe35-abe1-4b2d-803c-2ecdfc9b6707')\"\n",
              "            title=\"Convert this dataframe to an interactive table.\"\n",
              "            style=\"display:none;\">\n",
              "\n",
              "  <svg xmlns=\"http://www.w3.org/2000/svg\" height=\"24px\" viewBox=\"0 -960 960 960\">\n",
              "    <path d=\"M120-120v-720h720v720H120Zm60-500h600v-160H180v160Zm220 220h160v-160H400v160Zm0 220h160v-160H400v160ZM180-400h160v-160H180v160Zm440 0h160v-160H620v160ZM180-180h160v-160H180v160Zm440 0h160v-160H620v160Z\"/>\n",
              "  </svg>\n",
              "    </button>\n",
              "\n",
              "  <style>\n",
              "    .colab-df-container {\n",
              "      display:flex;\n",
              "      gap: 12px;\n",
              "    }\n",
              "\n",
              "    .colab-df-convert {\n",
              "      background-color: #E8F0FE;\n",
              "      border: none;\n",
              "      border-radius: 50%;\n",
              "      cursor: pointer;\n",
              "      display: none;\n",
              "      fill: #1967D2;\n",
              "      height: 32px;\n",
              "      padding: 0 0 0 0;\n",
              "      width: 32px;\n",
              "    }\n",
              "\n",
              "    .colab-df-convert:hover {\n",
              "      background-color: #E2EBFA;\n",
              "      box-shadow: 0px 1px 2px rgba(60, 64, 67, 0.3), 0px 1px 3px 1px rgba(60, 64, 67, 0.15);\n",
              "      fill: #174EA6;\n",
              "    }\n",
              "\n",
              "    .colab-df-buttons div {\n",
              "      margin-bottom: 4px;\n",
              "    }\n",
              "\n",
              "    [theme=dark] .colab-df-convert {\n",
              "      background-color: #3B4455;\n",
              "      fill: #D2E3FC;\n",
              "    }\n",
              "\n",
              "    [theme=dark] .colab-df-convert:hover {\n",
              "      background-color: #434B5C;\n",
              "      box-shadow: 0px 1px 3px 1px rgba(0, 0, 0, 0.15);\n",
              "      filter: drop-shadow(0px 1px 2px rgba(0, 0, 0, 0.3));\n",
              "      fill: #FFFFFF;\n",
              "    }\n",
              "  </style>\n",
              "\n",
              "    <script>\n",
              "      const buttonEl =\n",
              "        document.querySelector('#df-7bb6fe35-abe1-4b2d-803c-2ecdfc9b6707 button.colab-df-convert');\n",
              "      buttonEl.style.display =\n",
              "        google.colab.kernel.accessAllowed ? 'block' : 'none';\n",
              "\n",
              "      async function convertToInteractive(key) {\n",
              "        const element = document.querySelector('#df-7bb6fe35-abe1-4b2d-803c-2ecdfc9b6707');\n",
              "        const dataTable =\n",
              "          await google.colab.kernel.invokeFunction('convertToInteractive',\n",
              "                                                    [key], {});\n",
              "        if (!dataTable) return;\n",
              "\n",
              "        const docLinkHtml = 'Like what you see? Visit the ' +\n",
              "          '<a target=\"_blank\" href=https://colab.research.google.com/notebooks/data_table.ipynb>data table notebook</a>'\n",
              "          + ' to learn more about interactive tables.';\n",
              "        element.innerHTML = '';\n",
              "        dataTable['output_type'] = 'display_data';\n",
              "        await google.colab.output.renderOutput(dataTable, element);\n",
              "        const docLink = document.createElement('div');\n",
              "        docLink.innerHTML = docLinkHtml;\n",
              "        element.appendChild(docLink);\n",
              "      }\n",
              "    </script>\n",
              "  </div>\n",
              "\n",
              "\n",
              "<div id=\"df-b3859cb5-a94c-4192-b464-6d1091361f37\">\n",
              "  <button class=\"colab-df-quickchart\" onclick=\"quickchart('df-b3859cb5-a94c-4192-b464-6d1091361f37')\"\n",
              "            title=\"Suggest charts\"\n",
              "            style=\"display:none;\">\n",
              "\n",
              "<svg xmlns=\"http://www.w3.org/2000/svg\" height=\"24px\"viewBox=\"0 0 24 24\"\n",
              "     width=\"24px\">\n",
              "    <g>\n",
              "        <path d=\"M19 3H5c-1.1 0-2 .9-2 2v14c0 1.1.9 2 2 2h14c1.1 0 2-.9 2-2V5c0-1.1-.9-2-2-2zM9 17H7v-7h2v7zm4 0h-2V7h2v10zm4 0h-2v-4h2v4z\"/>\n",
              "    </g>\n",
              "</svg>\n",
              "  </button>\n",
              "\n",
              "<style>\n",
              "  .colab-df-quickchart {\n",
              "      --bg-color: #E8F0FE;\n",
              "      --fill-color: #1967D2;\n",
              "      --hover-bg-color: #E2EBFA;\n",
              "      --hover-fill-color: #174EA6;\n",
              "      --disabled-fill-color: #AAA;\n",
              "      --disabled-bg-color: #DDD;\n",
              "  }\n",
              "\n",
              "  [theme=dark] .colab-df-quickchart {\n",
              "      --bg-color: #3B4455;\n",
              "      --fill-color: #D2E3FC;\n",
              "      --hover-bg-color: #434B5C;\n",
              "      --hover-fill-color: #FFFFFF;\n",
              "      --disabled-bg-color: #3B4455;\n",
              "      --disabled-fill-color: #666;\n",
              "  }\n",
              "\n",
              "  .colab-df-quickchart {\n",
              "    background-color: var(--bg-color);\n",
              "    border: none;\n",
              "    border-radius: 50%;\n",
              "    cursor: pointer;\n",
              "    display: none;\n",
              "    fill: var(--fill-color);\n",
              "    height: 32px;\n",
              "    padding: 0;\n",
              "    width: 32px;\n",
              "  }\n",
              "\n",
              "  .colab-df-quickchart:hover {\n",
              "    background-color: var(--hover-bg-color);\n",
              "    box-shadow: 0 1px 2px rgba(60, 64, 67, 0.3), 0 1px 3px 1px rgba(60, 64, 67, 0.15);\n",
              "    fill: var(--button-hover-fill-color);\n",
              "  }\n",
              "\n",
              "  .colab-df-quickchart-complete:disabled,\n",
              "  .colab-df-quickchart-complete:disabled:hover {\n",
              "    background-color: var(--disabled-bg-color);\n",
              "    fill: var(--disabled-fill-color);\n",
              "    box-shadow: none;\n",
              "  }\n",
              "\n",
              "  .colab-df-spinner {\n",
              "    border: 2px solid var(--fill-color);\n",
              "    border-color: transparent;\n",
              "    border-bottom-color: var(--fill-color);\n",
              "    animation:\n",
              "      spin 1s steps(1) infinite;\n",
              "  }\n",
              "\n",
              "  @keyframes spin {\n",
              "    0% {\n",
              "      border-color: transparent;\n",
              "      border-bottom-color: var(--fill-color);\n",
              "      border-left-color: var(--fill-color);\n",
              "    }\n",
              "    20% {\n",
              "      border-color: transparent;\n",
              "      border-left-color: var(--fill-color);\n",
              "      border-top-color: var(--fill-color);\n",
              "    }\n",
              "    30% {\n",
              "      border-color: transparent;\n",
              "      border-left-color: var(--fill-color);\n",
              "      border-top-color: var(--fill-color);\n",
              "      border-right-color: var(--fill-color);\n",
              "    }\n",
              "    40% {\n",
              "      border-color: transparent;\n",
              "      border-right-color: var(--fill-color);\n",
              "      border-top-color: var(--fill-color);\n",
              "    }\n",
              "    60% {\n",
              "      border-color: transparent;\n",
              "      border-right-color: var(--fill-color);\n",
              "    }\n",
              "    80% {\n",
              "      border-color: transparent;\n",
              "      border-right-color: var(--fill-color);\n",
              "      border-bottom-color: var(--fill-color);\n",
              "    }\n",
              "    90% {\n",
              "      border-color: transparent;\n",
              "      border-bottom-color: var(--fill-color);\n",
              "    }\n",
              "  }\n",
              "</style>\n",
              "\n",
              "  <script>\n",
              "    async function quickchart(key) {\n",
              "      const quickchartButtonEl =\n",
              "        document.querySelector('#' + key + ' button');\n",
              "      quickchartButtonEl.disabled = true;  // To prevent multiple clicks.\n",
              "      quickchartButtonEl.classList.add('colab-df-spinner');\n",
              "      try {\n",
              "        const charts = await google.colab.kernel.invokeFunction(\n",
              "            'suggestCharts', [key], {});\n",
              "      } catch (error) {\n",
              "        console.error('Error during call to suggestCharts:', error);\n",
              "      }\n",
              "      quickchartButtonEl.classList.remove('colab-df-spinner');\n",
              "      quickchartButtonEl.classList.add('colab-df-quickchart-complete');\n",
              "    }\n",
              "    (() => {\n",
              "      let quickchartButtonEl =\n",
              "        document.querySelector('#df-b3859cb5-a94c-4192-b464-6d1091361f37 button');\n",
              "      quickchartButtonEl.style.display =\n",
              "        google.colab.kernel.accessAllowed ? 'block' : 'none';\n",
              "    })();\n",
              "  </script>\n",
              "</div>\n",
              "    </div>\n",
              "  </div>\n"
            ],
            "application/vnd.google.colaboratory.intrinsic+json": {
              "type": "dataframe",
              "variable_name": "df",
              "summary": "{\n  \"name\": \"df\",\n  \"rows\": 2108,\n  \"fields\": [\n    {\n      \"column\": \"Unnamed: 0\",\n      \"properties\": {\n        \"dtype\": \"number\",\n        \"std\": 608,\n        \"min\": 0,\n        \"max\": 2107,\n        \"num_unique_values\": 2108,\n        \"samples\": [\n          1463,\n          2074,\n          1202\n        ],\n        \"semantic_type\": \"\",\n        \"description\": \"\"\n      }\n    },\n    {\n      \"column\": \"ip\",\n      \"properties\": {\n        \"dtype\": \"category\",\n        \"num_unique_values\": 448,\n        \"samples\": [\n          \"180.76.5.58\",\n          \"108.174.194.111\",\n          \"96.2.31.16\"\n        ],\n        \"semantic_type\": \"\",\n        \"description\": \"\"\n      }\n    },\n    {\n      \"column\": \"timestamp\",\n      \"properties\": {\n        \"dtype\": \"date\",\n        \"min\": \"2012-06-20 19:05:12+02:00\",\n        \"max\": \"2012-07-02 09:36:46+02:00\",\n        \"num_unique_values\": 1831,\n        \"samples\": [\n          \"2012-06-22 14:25:55+02:00\",\n          \"2012-06-29 08:33:40+02:00\",\n          \"2012-06-30 22:14:54+02:00\"\n        ],\n        \"semantic_type\": \"\",\n        \"description\": \"\"\n      }\n    },\n    {\n      \"column\": \"request\",\n      \"properties\": {\n        \"dtype\": \"category\",\n        \"num_unique_values\": 121,\n        \"samples\": [\n          \"GET /logs/GET /robots.txt HTTP/1.1 HTTP/1.1\",\n          \"GET ///logs HTTP/1.1\",\n          \"GET /icons/blank.gif HTTP/1.1\"\n        ],\n        \"semantic_type\": \"\",\n        \"description\": \"\"\n      }\n    },\n    {\n      \"column\": \"status\",\n      \"properties\": {\n        \"dtype\": \"number\",\n        \"std\": 96,\n        \"min\": 200,\n        \"max\": 404,\n        \"num_unique_values\": 4,\n        \"samples\": [\n          200,\n          301,\n          404\n        ],\n        \"semantic_type\": \"\",\n        \"description\": \"\"\n      }\n    },\n    {\n      \"column\": \"bytes_sent\",\n      \"properties\": {\n        \"dtype\": \"number\",\n        \"std\": 50463,\n        \"min\": 187,\n        \"max\": 336934,\n        \"num_unique_values\": 301,\n        \"samples\": [\n          464,\n          80242,\n          249326\n        ],\n        \"semantic_type\": \"\",\n        \"description\": \"\"\n      }\n    },\n    {\n      \"column\": \"referrer\",\n      \"properties\": {\n        \"dtype\": \"category\",\n        \"num_unique_values\": 37,\n        \"samples\": [\n          \"http://whois.domaintools.com/isrolab-systems.com\",\n          \"http://www.google.co.uk/url?sa=t&rct=j&q=get%20%2Ffavicon.ico%20http%2F1.1%22%20404%201193&source=web&cd=2&sqi=2&ved=0CDIQFjAB&url=http%3A%2F%2Fisrolab.com%2Flogs%2Faccess.log&ei=UTjkT5SKIIek0QWqtJX-CA&usg=AFQjCNENV8twLEAi3TQfvJhNYQwHD7A51g\",\n          \"http://www.google.ru/url?sa=t&rct=j&q=&esrc=s&source=web&cd=7&ved=0CGEQFjAG&url=http%3A%2F%2Fisrolab.com%2Flogs%2Faccess.log&ei=q7HiT6SIKYrNmAWn45TaAw&usg=AFQjCNENV8twLEAi3TQfvJhNYQwHD7A51g&sig2=Hdl10VJlRZuVoVy9vB93pg\"\n        ],\n        \"semantic_type\": \"\",\n        \"description\": \"\"\n      }\n    },\n    {\n      \"column\": \"user_agent\",\n      \"properties\": {\n        \"dtype\": \"category\",\n        \"num_unique_values\": 101,\n        \"samples\": [\n          \"Mozilla/5.0 (Macintosh; Intel Mac OS X 10.7; rv:13.0) Gecko/20100101 Firefox/13.0.1\",\n          \"Mozilla/5.0 (Windows NT 6.1) AppleWebKit/535.19 (KHTML, like Gecko) Chrome/18.0.1025.1 Safari/535.19\",\n          \"Mozilla/4.0 (compatible; MSIE 8.0; Windows NT 5.1; Trident/4.0; .NET CLR 1.1.4322; .NET CLR 2.0.50727; .NET CLR 3.0.04506.30; .NET CLR 3.0.4506.2152; .NET CLR 3.5.30729)\"\n        ],\n        \"semantic_type\": \"\",\n        \"description\": \"\"\n      }\n    },\n    {\n      \"column\": \"date\",\n      \"properties\": {\n        \"dtype\": \"object\",\n        \"num_unique_values\": 13,\n        \"samples\": [\n          \"2012-07-01\",\n          \"2012-06-29\",\n          \"2012-06-20\"\n        ],\n        \"semantic_type\": \"\",\n        \"description\": \"\"\n      }\n    },\n    {\n      \"column\": \"endpoint\",\n      \"properties\": {\n        \"dtype\": \"category\",\n        \"num_unique_values\": 102,\n        \"samples\": [\n          \"/souccot.fr/dynamic.php?page=distributors\",\n          \"/logs/Baiduspider-image+(+http://www.baidu.com/search/spider.htm)\",\n          \"//logs///error.log\"\n        ],\n        \"semantic_type\": \"\",\n        \"description\": \"\"\n      }\n    },\n    {\n      \"column\": \"os\",\n      \"properties\": {\n        \"dtype\": \"category\",\n        \"num_unique_values\": 4,\n        \"samples\": [\n          \"Windows\",\n          \"Mac OS\",\n          \"Unknown\"\n        ],\n        \"semantic_type\": \"\",\n        \"description\": \"\"\n      }\n    },\n    {\n      \"column\": \"country\",\n      \"properties\": {\n        \"dtype\": \"category\",\n        \"num_unique_values\": 38,\n        \"samples\": [\n          \"Finland\",\n          \"Belgium\",\n          \"Germany\"\n        ],\n        \"semantic_type\": \"\",\n        \"description\": \"\"\n      }\n    },\n    {\n      \"column\": \"bot\",\n      \"properties\": {\n        \"dtype\": \"category\",\n        \"num_unique_values\": 2,\n        \"samples\": [\n          \"Googlebot\",\n          \"Baiduspider\"\n        ],\n        \"semantic_type\": \"\",\n        \"description\": \"\"\n      }\n    }\n  ]\n}"
            }
          },
          "metadata": {},
          "execution_count": 82
        }
      ]
    },
    {
      "cell_type": "code",
      "source": [
        "df['hour'] = df['timestamp'].dt.hour\n",
        "df['hour']"
      ],
      "metadata": {
        "colab": {
          "base_uri": "https://localhost:8080/"
        },
        "id": "pBD479JEBKJm",
        "outputId": "ec324e2f-9d68-43e0-bd18-4bbbe8380704"
      },
      "execution_count": 84,
      "outputs": [
        {
          "output_type": "execute_result",
          "data": {
            "text/plain": [
              "0       19\n",
              "1       19\n",
              "2       19\n",
              "3       19\n",
              "4       19\n",
              "        ..\n",
              "2103     9\n",
              "2104     9\n",
              "2105     9\n",
              "2106     9\n",
              "2107     9\n",
              "Name: hour, Length: 2108, dtype: int32"
            ]
          },
          "metadata": {},
          "execution_count": 84
        }
      ]
    },
    {
      "cell_type": "code",
      "source": [
        "from sklearn.preprocessing import StandardScaler\n",
        "from sklearn.cluster import KMeans\n",
        "import matplotlib.pyplot as plt\n",
        "\n",
        "X = df[['hour', 'bytes_sent']]\n",
        "scaler = StandardScaler()\n",
        "X_scaled = scaler.fit_transform(X)\n",
        "kmeans = KMeans(n_clusters=4)\n",
        "df['cluster'] = kmeans.fit_predict(X_scaled)\n",
        "\n",
        "plt.figure(figsize=(10, 6))\n",
        "for cluster_label in df['cluster'].unique():\n",
        "    cluster_data = df[df['cluster'] == cluster_label]\n",
        "\n",
        "    plt.scatter(cluster_data['hour'], cluster_data['bytes_sent'],\n",
        "    label=f'Cluster {cluster_label}')\n",
        "\n",
        "plt.xlabel('Hour of the Day')\n",
        "plt.ylabel('Bytes Sent')\n",
        "plt.title('Clusters of Data')\n",
        "plt.legend()\n",
        "plt.grid(True)\n",
        "plt.show()"
      ],
      "metadata": {
        "colab": {
          "base_uri": "https://localhost:8080/",
          "height": 619
        },
        "id": "gHK2E5LrC_xF",
        "outputId": "2f69e3a3-f4fa-48cd-dd7b-bf13610a25e7"
      },
      "execution_count": 86,
      "outputs": [
        {
          "output_type": "stream",
          "name": "stderr",
          "text": [
            "/usr/local/lib/python3.10/dist-packages/sklearn/cluster/_kmeans.py:870: FutureWarning: The default value of `n_init` will change from 10 to 'auto' in 1.4. Set the value of `n_init` explicitly to suppress the warning\n",
            "  warnings.warn(\n"
          ]
        },
        {
          "output_type": "display_data",
          "data": {
            "text/plain": [
              "<Figure size 1000x600 with 1 Axes>"
            ],
            "image/png": "[encoded data removed]"
          },
          "metadata": {}
        }
      ]
    },
    {
      "cell_type": "code",
      "source": [],
      "metadata": {
        "id": "ksrpvAO4EzWk"
      },
      "execution_count": null,
      "outputs": []
    }
  ]
}